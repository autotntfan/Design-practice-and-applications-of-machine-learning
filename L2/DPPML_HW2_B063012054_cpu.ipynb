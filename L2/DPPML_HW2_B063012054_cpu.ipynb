{
 "cells": [
  {
   "cell_type": "code",
   "execution_count": 1,
   "metadata": {},
   "outputs": [
    {
     "name": "stderr",
     "output_type": "stream",
     "text": [
      "Using TensorFlow backend.\n"
     ]
    }
   ],
   "source": [
    "from __future__ import print_function\n",
    "import keras\n",
    "from keras.datasets import mnist\n",
    "from keras.models import Sequential\n",
    "from keras.layers import Dense, Dropout, Flatten\n",
    "from keras.layers import Conv2D, MaxPooling2D\n",
    "from keras import backend as K\n",
    "from matplotlib import pyplot as plt\n",
    "\n",
    "# 定義梯度下降批量\n",
    "batch_size = 256\n",
    "# 定義分類數量\n",
    "num_classes = 10\n",
    "# 定義訓練週期\n",
    "epochs = 15\n",
    "\n",
    "# 定義圖像寬、高\n",
    "img_rows, img_cols = 28, 28\n",
    "\n",
    "# 載入 MNIST 訓練資料\n",
    "(x_train, y_train), (x_test, y_test) = mnist.load_data()\n",
    "\n",
    "# 保留原始資料，供 cross tab function 使用\n",
    "y_test_org = y_test\n",
    "\n",
    "# channels_first: 色彩通道(R/G/B)資料(深度)放在第2維度，第3、4維度放置寬與高\n",
    "if K.image_data_format() == 'channels_first':\n",
    "    x_train = x_train.reshape(x_train.shape[0], 1, img_rows, img_cols)\n",
    "    x_test = x_test.reshape(x_test.shape[0], 1, img_rows, img_cols)\n",
    "    input_shape = (1, img_rows, img_cols)\n",
    "else: # channels_last: 色彩通道(R/G/B)資料(深度)放在第4維度，第2、3維度放置寬與高\n",
    "    x_train = x_train.reshape(x_train.shape[0], img_rows, img_cols, 1)\n",
    "    x_test = x_test.reshape(x_test.shape[0], img_rows, img_cols, 1)\n",
    "    input_shape = (img_rows, img_cols, 1)\n",
    "\n",
    "# 轉換色彩 0~255 資料為 0~1\n",
    "x_train = x_train.astype('float32')\n",
    "x_test = x_test.astype('float32')\n",
    "x_train /= 255\n",
    "x_test /= 255\n",
    "\n",
    "# y 值轉成 one-hot encoding\n",
    "y_train = keras.utils.to_categorical(y_train, num_classes)\n",
    "y_test = keras.utils.to_categorical(y_test, num_classes)"
   ]
  },
  {
   "cell_type": "code",
   "execution_count": 1,
   "metadata": {},
   "outputs": [
    {
     "name": "stderr",
     "output_type": "stream",
     "text": [
      "Using TensorFlow backend.\n"
     ]
    },
    {
     "name": "stdout",
     "output_type": "stream",
     "text": [
      "WARNING:tensorflow:From D:\\anaconda\\envs\\tensorflow-gpu\\lib\\site-packages\\tensorflow_core\\python\\ops\\resource_variable_ops.py:1630: calling BaseResourceVariable.__init__ (from tensorflow.python.ops.resource_variable_ops) with constraint is deprecated and will be removed in a future version.\n",
      "Instructions for updating:\n",
      "If using Keras pass *_constraint arguments to layers.\n",
      "WARNING:tensorflow:From D:\\anaconda\\envs\\tensorflow-gpu\\lib\\site-packages\\keras\\backend\\tensorflow_backend.py:4070: The name tf.nn.max_pool is deprecated. Please use tf.nn.max_pool2d instead.\n",
      "\n",
      "WARNING:tensorflow:From D:\\anaconda\\envs\\tensorflow-gpu\\lib\\site-packages\\keras\\backend\\tensorflow_backend.py:422: The name tf.global_variables is deprecated. Please use tf.compat.v1.global_variables instead.\n",
      "\n",
      "Train on 60000 samples, validate on 10000 samples\n",
      "Epoch 1/15\n",
      "60000/60000 [==============================] - 63s 1ms/step - loss: 0.3364 - accuracy: 0.8951 - val_loss: 0.0799 - val_accuracy: 0.9758\n",
      "Epoch 2/15\n",
      "60000/60000 [==============================] - 64s 1ms/step - loss: 0.1059 - accuracy: 0.9682 - val_loss: 0.0515 - val_accuracy: 0.9837\n",
      "Epoch 3/15\n",
      "60000/60000 [==============================] - 63s 1ms/step - loss: 0.0758 - accuracy: 0.9778 - val_loss: 0.0452 - val_accuracy: 0.9848\n",
      "Epoch 4/15\n",
      "60000/60000 [==============================] - 63s 1ms/step - loss: 0.0645 - accuracy: 0.9809 - val_loss: 0.0402 - val_accuracy: 0.9865\n",
      "Epoch 5/15\n",
      "60000/60000 [==============================] - 61s 1ms/step - loss: 0.0540 - accuracy: 0.9838 - val_loss: 0.0313 - val_accuracy: 0.9893\n",
      "Epoch 6/15\n",
      "60000/60000 [==============================] - 61s 1ms/step - loss: 0.0458 - accuracy: 0.9859 - val_loss: 0.0332 - val_accuracy: 0.9902\n",
      "Epoch 7/15\n",
      "60000/60000 [==============================] - 61s 1ms/step - loss: 0.0432 - accuracy: 0.9865 - val_loss: 0.0298 - val_accuracy: 0.9897\n",
      "Epoch 8/15\n",
      "60000/60000 [==============================] - 60s 1ms/step - loss: 0.0379 - accuracy: 0.9882 - val_loss: 0.0307 - val_accuracy: 0.9896\n",
      "Epoch 9/15\n",
      "60000/60000 [==============================] - 59s 984us/step - loss: 0.0349 - accuracy: 0.9895 - val_loss: 0.0270 - val_accuracy: 0.9914\n",
      "Epoch 10/15\n",
      "60000/60000 [==============================] - 62s 1ms/step - loss: 0.0336 - accuracy: 0.9900 - val_loss: 0.0277 - val_accuracy: 0.9917\n",
      "Epoch 11/15\n",
      "60000/60000 [==============================] - 59s 988us/step - loss: 0.0300 - accuracy: 0.9906 - val_loss: 0.0252 - val_accuracy: 0.9919\n",
      "Epoch 12/15\n",
      "60000/60000 [==============================] - 61s 1ms/step - loss: 0.0294 - accuracy: 0.9915 - val_loss: 0.0289 - val_accuracy: 0.9911\n",
      "Epoch 13/15\n",
      "60000/60000 [==============================] - 62s 1ms/step - loss: 0.0256 - accuracy: 0.9919 - val_loss: 0.0271 - val_accuracy: 0.9916\n",
      "Epoch 14/15\n",
      "60000/60000 [==============================] - 63s 1ms/step - loss: 0.0249 - accuracy: 0.9922 - val_loss: 0.0296 - val_accuracy: 0.9907\n",
      "Epoch 15/15\n",
      "60000/60000 [==============================] - 60s 997us/step - loss: 0.0230 - accuracy: 0.9925 - val_loss: 0.0269 - val_accuracy: 0.9915\n",
      "Test loss: 0.02690217216430756\n",
      "Test accuracy: 0.9915000200271606\n"
     ]
    },
    {
     "data": {
      "image/png": "[encoded data removed]",
      "text/plain": [
       "<Figure size 432x288 with 1 Axes>"
      ]
     },
     "metadata": {
      "needs_background": "light"
     },
     "output_type": "display_data"
    }
   ],
   "source": [
    "#####---------------------------------------尚未修改的模型---------------------------------------#####\n",
    "\n",
    "# 建立簡單的線性執行的模型\n",
    "model = Sequential()\n",
    "# 建立卷積層，filter=32,即 output space 的深度, Kernal Size: 3x3, activation function 採用 relu\n",
    "model.add(Conv2D(32, kernel_size=(3, 3),\n",
    "                 activation='relu',\n",
    "                 input_shape=input_shape))\n",
    "# 建立卷積層，filter=64,即 output size, Kernal Size: 3x3, activation function 採用 relu\n",
    "model.add(Conv2D(64, (3, 3), activation='relu'))\n",
    "# 建立池化層，池化大小=2x2，取最大值\n",
    "model.add(MaxPooling2D(pool_size=(2, 2)))\n",
    "# Dropout層隨機斷開輸入神經元，用於防止過度擬合，斷開比例:0.25\n",
    "model.add(Dropout(0.25))\n",
    "# Flatten層把多維的輸入一維化，常用在從卷積層到全連接層的過渡。\n",
    "model.add(Flatten())\n",
    "# 全連接層: 128個output\n",
    "model.add(Dense(128, activation='relu'))\n",
    "# Dropout層隨機斷開輸入神經元，用於防止過度擬合，斷開比例:0.5\n",
    "model.add(Dropout(0.5))\n",
    "# 使用 softmax activation function，將結果分類\n",
    "model.add(Dense(num_classes, activation='softmax'))\n",
    "\n",
    "# 編譯: 選擇損失函數、優化方法及成效衡量方式\n",
    "model.compile(loss=keras.losses.categorical_crossentropy,\n",
    "              optimizer=keras.optimizers.Adadelta(),\n",
    "              metrics=['accuracy'])\n",
    "\n",
    "# 進行訓練, 訓練過程會存在 train_history 變數中\n",
    "train_history = model.fit(x_train, y_train,\n",
    "          batch_size=batch_size,\n",
    "          epochs=epochs,\n",
    "          verbose=1,\n",
    "          validation_data=(x_test, y_test))\n",
    "#儲存訓練架構及結果\n",
    "model.save('my_model_cnn.h5')\n",
    "\n",
    "# 顯示損失函數、訓練成果(分數)\n",
    "score = model.evaluate(x_test, y_test, verbose=0)\n",
    "print('Test loss:', score[0])\n",
    "print('Test accuracy:', score[1])\n",
    "\n",
    "\n",
    "plt.plot(train_history.history['loss'])  \n",
    "plt.plot(train_history.history['val_loss'])  \n",
    "plt.title('Train History')  \n",
    "plt.ylabel('loss')  \n",
    "plt.xlabel('Epoch')  \n",
    "plt.legend(['loss', 'val_loss'], loc='upper left')  \n",
    "plt.show()"
   ]
  },
  {
   "cell_type": "code",
   "execution_count": 4,
   "metadata": {},
   "outputs": [
    {
     "name": "stdout",
     "output_type": "stream",
     "text": [
      "Train on 60000 samples, validate on 10000 samples\n",
      "Epoch 1/15\n",
      "60000/60000 [==============================] - 45s 754us/step - loss: 1.5771 - accuracy: 0.5232 - val_loss: 1.0010 - val_accuracy: 0.6687\n",
      "Epoch 2/15\n",
      "60000/60000 [==============================] - 45s 745us/step - loss: 0.7392 - accuracy: 0.7682 - val_loss: 0.3721 - val_accuracy: 0.8975\n",
      "Epoch 3/15\n",
      "60000/60000 [==============================] - 44s 740us/step - loss: 0.4555 - accuracy: 0.8610 - val_loss: 0.2690 - val_accuracy: 0.9221\n",
      "Epoch 4/15\n",
      "60000/60000 [==============================] - 44s 740us/step - loss: 0.3370 - accuracy: 0.9008 - val_loss: 0.2273 - val_accuracy: 0.9327\n",
      "Epoch 5/15\n",
      "60000/60000 [==============================] - 44s 741us/step - loss: 0.2882 - accuracy: 0.9154 - val_loss: 0.1725 - val_accuracy: 0.9492\n",
      "Epoch 6/15\n",
      "60000/60000 [==============================] - 46s 759us/step - loss: 0.2351 - accuracy: 0.9316 - val_loss: 0.1387 - val_accuracy: 0.9580\n",
      "Epoch 7/15\n",
      "60000/60000 [==============================] - 45s 758us/step - loss: 0.2074 - accuracy: 0.9392 - val_loss: 0.1169 - val_accuracy: 0.9648\n",
      "Epoch 8/15\n",
      "60000/60000 [==============================] - 45s 750us/step - loss: 0.1874 - accuracy: 0.9453 - val_loss: 0.1101 - val_accuracy: 0.9669\n",
      "Epoch 9/15\n",
      "60000/60000 [==============================] - 46s 772us/step - loss: 0.1632 - accuracy: 0.9528 - val_loss: 0.0890 - val_accuracy: 0.9724\n",
      "Epoch 10/15\n",
      "60000/60000 [==============================] - 45s 754us/step - loss: 0.1483 - accuracy: 0.9564 - val_loss: 0.0796 - val_accuracy: 0.9752\n",
      "Epoch 11/15\n",
      "60000/60000 [==============================] - 45s 748us/step - loss: 0.1373 - accuracy: 0.9601 - val_loss: 0.0786 - val_accuracy: 0.9763\n",
      "Epoch 12/15\n",
      "60000/60000 [==============================] - 44s 741us/step - loss: 0.1287 - accuracy: 0.9622 - val_loss: 0.0670 - val_accuracy: 0.9786\n",
      "Epoch 13/15\n",
      "60000/60000 [==============================] - 45s 745us/step - loss: 0.1118 - accuracy: 0.9678 - val_loss: 0.0647 - val_accuracy: 0.9792\n",
      "Epoch 14/15\n",
      "60000/60000 [==============================] - 46s 759us/step - loss: 0.1172 - accuracy: 0.9647 - val_loss: 0.0679 - val_accuracy: 0.9788\n",
      "Epoch 15/15\n",
      "60000/60000 [==============================] - 44s 736us/step - loss: 0.1030 - accuracy: 0.9693 - val_loss: 0.0550 - val_accuracy: 0.9823\n",
      "Test loss: 0.05504203910054639\n",
      "Test accuracy: 0.9822999835014343\n"
     ]
    },
    {
     "data": {
      "image/png": "[encoded data removed]",
      "text/plain": [
       "<Figure size 432x288 with 1 Axes>"
      ]
     },
     "metadata": {
      "needs_background": "light"
     },
     "output_type": "display_data"
    }
   ],
   "source": [
    "#####---------------------------------------僅修改batch_size 256 -> 1024---------------------------------------#####\n",
    "\n",
    "# 建立簡單的線性執行的模型\n",
    "model = Sequential()\n",
    "# 建立卷積層，filter=32,即 output space 的深度, Kernal Size: 3x3, activation function 採用 relu\n",
    "model.add(Conv2D(32, kernel_size=(3, 3),\n",
    "                 activation='relu',\n",
    "                 input_shape=input_shape))\n",
    "# 建立卷積層，filter=64,即 output size, Kernal Size: 3x3, activation function 採用 relu\n",
    "model.add(Conv2D(64, (3, 3), activation='relu'))\n",
    "# 建立池化層，池化大小=2x2，取最大值\n",
    "model.add(MaxPooling2D(pool_size=(2, 2)))\n",
    "# Dropout層隨機斷開輸入神經元，用於防止過度擬合，斷開比例:0.25\n",
    "model.add(Dropout(0.25))\n",
    "# Flatten層把多維的輸入一維化，常用在從卷積層到全連接層的過渡。\n",
    "model.add(Flatten())\n",
    "# 全連接層: 128個output\n",
    "model.add(Dense(128, activation='relu'))\n",
    "# Dropout層隨機斷開輸入神經元，用於防止過度擬合，斷開比例:0.5\n",
    "model.add(Dropout(0.5))\n",
    "# 使用 softmax activation function，將結果分類\n",
    "model.add(Dense(num_classes, activation='softmax'))\n",
    "\n",
    "# 編譯: 選擇損失函數、優化方法及成效衡量方式\n",
    "model.compile(loss=keras.losses.categorical_crossentropy,\n",
    "              optimizer=keras.optimizers.Adadelta(),\n",
    "              metrics=['accuracy'])\n",
    "\n",
    "# 進行訓練, 訓練過程會存在 train_history 變數中\n",
    "train_history = model.fit(x_train, y_train,\n",
    "          batch_size=4096,\n",
    "          epochs=epochs,\n",
    "          verbose=1,\n",
    "          validation_data=(x_test, y_test))\n",
    "#儲存訓練架構及結果\n",
    "model.save('my_model_cnn.h5')\n",
    "\n",
    "# 顯示損失函數、訓練成果(分數)\n",
    "score = model.evaluate(x_test, y_test, verbose=0)\n",
    "print('Test loss:', score[0])\n",
    "print('Test accuracy:', score[1])\n",
    "\n",
    "\n",
    "plt.plot(train_history.history['loss'])  \n",
    "plt.plot(train_history.history['val_loss'])  \n",
    "plt.title('Train History')  \n",
    "plt.ylabel('loss')  \n",
    "plt.xlabel('Epoch')  \n",
    "plt.legend(['loss', 'val_loss'], loc='upper left')  \n",
    "plt.show()"
   ]
  },
  {
   "cell_type": "code",
   "execution_count": 2,
   "metadata": {},
   "outputs": [
    {
     "name": "stdout",
     "output_type": "stream",
     "text": [
      "WARNING:tensorflow:From D:\\anaconda\\envs\\tensorflow-gpu\\lib\\site-packages\\tensorflow_core\\python\\ops\\resource_variable_ops.py:1630: calling BaseResourceVariable.__init__ (from tensorflow.python.ops.resource_variable_ops) with constraint is deprecated and will be removed in a future version.\n",
      "Instructions for updating:\n",
      "If using Keras pass *_constraint arguments to layers.\n",
      "WARNING:tensorflow:From D:\\anaconda\\envs\\tensorflow-gpu\\lib\\site-packages\\keras\\backend\\tensorflow_backend.py:4070: The name tf.nn.max_pool is deprecated. Please use tf.nn.max_pool2d instead.\n",
      "\n",
      "WARNING:tensorflow:From D:\\anaconda\\envs\\tensorflow-gpu\\lib\\site-packages\\keras\\backend\\tensorflow_backend.py:422: The name tf.global_variables is deprecated. Please use tf.compat.v1.global_variables instead.\n",
      "\n",
      "Train on 60000 samples, validate on 10000 samples\n",
      "Epoch 1/10\n",
      "60000/60000 [==============================] - 30s 507us/step - loss: 0.6748 - accuracy: 0.8102 - val_loss: 0.2125 - val_accuracy: 0.9405\n",
      "Epoch 2/10\n",
      "60000/60000 [==============================] - 30s 502us/step - loss: 0.1781 - accuracy: 0.9486 - val_loss: 0.1086 - val_accuracy: 0.9677\n",
      "Epoch 3/10\n",
      "60000/60000 [==============================] - 30s 501us/step - loss: 0.1098 - accuracy: 0.9677 - val_loss: 0.0713 - val_accuracy: 0.9786\n",
      "Epoch 4/10\n",
      "60000/60000 [==============================] - 30s 497us/step - loss: 0.0865 - accuracy: 0.9747 - val_loss: 0.0586 - val_accuracy: 0.9817\n",
      "Epoch 5/10\n",
      "60000/60000 [==============================] - 30s 501us/step - loss: 0.0721 - accuracy: 0.9785 - val_loss: 0.0483 - val_accuracy: 0.9852\n",
      "Epoch 6/10\n",
      "60000/60000 [==============================] - 30s 503us/step - loss: 0.0630 - accuracy: 0.9816 - val_loss: 0.0441 - val_accuracy: 0.9869\n",
      "Epoch 7/10\n",
      "60000/60000 [==============================] - 30s 501us/step - loss: 0.0542 - accuracy: 0.9832 - val_loss: 0.0397 - val_accuracy: 0.9869\n",
      "Epoch 8/10\n",
      "60000/60000 [==============================] - 30s 499us/step - loss: 0.0511 - accuracy: 0.9844 - val_loss: 0.0380 - val_accuracy: 0.9878\n",
      "Epoch 9/10\n",
      "60000/60000 [==============================] - 30s 501us/step - loss: 0.0451 - accuracy: 0.9863 - val_loss: 0.0342 - val_accuracy: 0.9892\n",
      "Epoch 10/10\n",
      "60000/60000 [==============================] - 30s 499us/step - loss: 0.0417 - accuracy: 0.9872 - val_loss: 0.0344 - val_accuracy: 0.9896\n",
      "Test loss: 0.03439972898203414\n",
      "Test accuracy: 0.9896000027656555\n"
     ]
    },
    {
     "data": {
      "image/png": "[encoded data removed]",
      "text/plain": [
       "<Figure size 432x288 with 1 Axes>"
      ]
     },
     "metadata": {
      "needs_background": "light"
     },
     "output_type": "display_data"
    }
   ],
   "source": [
    "#####---------------------------------------改良版模型---------------------------------------#####\n",
    "model2=Sequential()\n",
    "# 第一層conv2D更改Mask大小從3->9\n",
    "model2.add(Conv2D(32, kernel_size=(9, 9),activation='relu',input_shape=input_shape))\n",
    "\n",
    "model2.add(Conv2D(64, (3, 3), activation='relu'))\n",
    "\n",
    "# 建立池化層，池化大小=2x2，取最大值\n",
    "model2.add(MaxPooling2D(pool_size=(2, 2)))\n",
    "# Dropout層隨機斷開輸入神經元，用於防止過度擬合，斷開比例:0.25\n",
    "model2.add(Dropout(0.25))\n",
    "# Flatten層把多維的輸入一維化，常用在從卷積層到全連接層的過渡。\n",
    "model2.add(Flatten())\n",
    "# 更改數值成0.5->0.25\n",
    "model2.add(Dropout(0.25))\n",
    "# 使用 softmax activation function，將結果分類\n",
    "model2.add(Dense(num_classes, activation='softmax'))\n",
    "\n",
    "# 更改optimizer Adadelta->Adam\n",
    "model2.compile(loss=keras.losses.categorical_crossentropy,\n",
    "              optimizer=keras.optimizers.Adam(),\n",
    "              metrics=['accuracy'])\n",
    "\n",
    "# 更改batch size 256->1024 epochs 15->10\n",
    "train_history = model2.fit(x_train, y_train,\n",
    "          batch_size=1024,\n",
    "          epochs=10,\n",
    "          #verbose=1,\n",
    "          validation_data=(x_test, y_test))\n",
    "#儲存訓練架構及結果\n",
    "#model.save('my_model_cnn.h5')\n",
    "\n",
    "# 顯示損失函數、訓練成果(分數)\n",
    "score = model2.evaluate(x_test, y_test, verbose=0)\n",
    "print('Test loss:', score[0])\n",
    "print('Test accuracy:', score[1])\n",
    "\n",
    "\n",
    "plt.plot(train_history.history['loss'])  \n",
    "plt.plot(train_history.history['val_loss'])  \n",
    "plt.title('Train History')  \n",
    "plt.ylabel('loss')  \n",
    "plt.xlabel('Epoch')  \n",
    "plt.legend(['loss', 'val_loss'], loc='upper left')  \n",
    "plt.show()"
   ]
  },
  {
   "cell_type": "code",
   "execution_count": 9,
   "metadata": {},
   "outputs": [
    {
     "name": "stdout",
     "output_type": "stream",
     "text": [
      "Model: \"sequential_7\"\n",
      "_________________________________________________________________\n",
      "Layer (type)                 Output Shape              Param #   \n",
      "=================================================================\n",
      "conv2d_12 (Conv2D)           (None, 20, 20, 32)        2624      \n",
      "_________________________________________________________________\n",
      "conv2d_13 (Conv2D)           (None, 18, 18, 64)        18496     \n",
      "_________________________________________________________________\n",
      "max_pooling2d_6 (MaxPooling2 (None, 9, 9, 64)          0         \n",
      "_________________________________________________________________\n",
      "dropout_11 (Dropout)         (None, 9, 9, 64)          0         \n",
      "_________________________________________________________________\n",
      "flatten_6 (Flatten)          (None, 5184)              0         \n",
      "_________________________________________________________________\n",
      "dropout_12 (Dropout)         (None, 5184)              0         \n",
      "_________________________________________________________________\n",
      "dense_7 (Dense)              (None, 10)                51850     \n",
      "=================================================================\n",
      "Total params: 72,970\n",
      "Trainable params: 72,970\n",
      "Non-trainable params: 0\n",
      "_________________________________________________________________\n"
     ]
    }
   ],
   "source": [
    "model2.summary()"
   ]
  },
  {
   "cell_type": "code",
   "execution_count": 4,
   "metadata": {},
   "outputs": [
    {
     "data": {
      "text/plain": [
       "False"
      ]
     },
     "execution_count": 4,
     "metadata": {},
     "output_type": "execute_result"
    }
   ],
   "source": [
    "import tensorflow as tf\n",
    "tf.test.is_gpu_available(\n",
    "    cuda_only=False, min_cuda_compute_capability=None\n",
    ")"
   ]
  },
  {
   "cell_type": "code",
   "execution_count": null,
   "metadata": {},
   "outputs": [],
   "source": []
  }
 ],
 "metadata": {
  "kernelspec": {
   "display_name": "Python 3",
   "language": "python",
   "name": "python3"
  },
  "language_info": {
   "codemirror_mode": {
    "name": "ipython",
    "version": 3
   },
   "file_extension": ".py",
   "mimetype": "text/x-python",
   "name": "python",
   "nbconvert_exporter": "python",
   "pygments_lexer": "ipython3",
   "version": "3.6.7"
  }
 },
 "nbformat": 4,
 "nbformat_minor": 4
}
