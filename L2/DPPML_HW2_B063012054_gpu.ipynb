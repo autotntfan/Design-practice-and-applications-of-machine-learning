{
 "cells": [
  {
   "cell_type": "code",
   "execution_count": 1,
   "metadata": {},
   "outputs": [
    {
     "name": "stdout",
     "output_type": "stream",
     "text": [
      "Default GPU Device: /device:GPU:0\n"
     ]
    }
   ],
   "source": [
    "import tensorflow as tf\n",
    "if tf.test.gpu_device_name():\n",
    "    print('Default GPU Device: {}'.format(tf.test.gpu_device_name()))\n",
    "else:\n",
    "    print(\"Please install GPU version of TF\")"
   ]
  },
  {
   "cell_type": "code",
   "execution_count": 2,
   "metadata": {},
   "outputs": [
    {
     "name": "stderr",
     "output_type": "stream",
     "text": [
      "Using TensorFlow backend.\n"
     ]
    }
   ],
   "source": [
    "from __future__ import print_function\n",
    "import keras\n",
    "from keras.datasets import mnist\n",
    "from keras.models import Sequential\n",
    "from keras.layers import Dense, Dropout, Flatten\n",
    "from keras.layers import Conv2D, MaxPooling2D\n",
    "from keras import backend as K\n",
    "from matplotlib import pyplot as plt\n",
    "\n",
    "# 定義梯度下降批量\n",
    "batch_size = 256\n",
    "# 定義分類數量\n",
    "num_classes = 10\n",
    "# 定義訓練週期\n",
    "epochs = 15\n",
    "\n",
    "# 定義圖像寬、高\n",
    "img_rows, img_cols = 28, 28\n",
    "\n",
    "# 載入 MNIST 訓練資料\n",
    "(x_train, y_train), (x_test, y_test) = mnist.load_data()\n",
    "\n",
    "# 保留原始資料，供 cross tab function 使用\n",
    "y_test_org = y_test\n",
    "\n",
    "# channels_first: 色彩通道(R/G/B)資料(深度)放在第2維度，第3、4維度放置寬與高\n",
    "if K.image_data_format() == 'channels_first':\n",
    "    x_train = x_train.reshape(x_train.shape[0], 1, img_rows, img_cols)\n",
    "    x_test = x_test.reshape(x_test.shape[0], 1, img_rows, img_cols)\n",
    "    input_shape = (1, img_rows, img_cols)\n",
    "else: # channels_last: 色彩通道(R/G/B)資料(深度)放在第4維度，第2、3維度放置寬與高\n",
    "    x_train = x_train.reshape(x_train.shape[0], img_rows, img_cols, 1)\n",
    "    x_test = x_test.reshape(x_test.shape[0], img_rows, img_cols, 1)\n",
    "    input_shape = (img_rows, img_cols, 1)\n",
    "\n",
    "# 轉換色彩 0~255 資料為 0~1\n",
    "x_train = x_train.astype('float32')\n",
    "x_test = x_test.astype('float32')\n",
    "x_train /= 255\n",
    "x_test /= 255\n",
    "\n",
    "# y 值轉成 one-hot encoding\n",
    "y_train = keras.utils.to_categorical(y_train, num_classes)\n",
    "y_test = keras.utils.to_categorical(y_test, num_classes)"
   ]
  },
  {
   "cell_type": "code",
   "execution_count": 3,
   "metadata": {},
   "outputs": [
    {
     "name": "stdout",
     "output_type": "stream",
     "text": [
      "Train on 60000 samples, validate on 10000 samples\n",
      "Epoch 1/10\n",
      "60000/60000 [==============================] - 5s 86us/step - loss: 0.7006 - accuracy: 0.8058 - val_loss: 0.2064 - val_accuracy: 0.9400\n",
      "Epoch 2/10\n",
      "60000/60000 [==============================] - 3s 42us/step - loss: 0.1720 - accuracy: 0.9497 - val_loss: 0.0993 - val_accuracy: 0.9709\n",
      "Epoch 3/10\n",
      "60000/60000 [==============================] - 3s 44us/step - loss: 0.1081 - accuracy: 0.9683 - val_loss: 0.0700 - val_accuracy: 0.9777\n",
      "Epoch 4/10\n",
      "60000/60000 [==============================] - 3s 42us/step - loss: 0.0834 - accuracy: 0.9755 - val_loss: 0.0551 - val_accuracy: 0.9822\n",
      "Epoch 5/10\n",
      "60000/60000 [==============================] - 2s 42us/step - loss: 0.0696 - accuracy: 0.9800 - val_loss: 0.0485 - val_accuracy: 0.9848\n",
      "Epoch 6/10\n",
      "60000/60000 [==============================] - 3s 42us/step - loss: 0.0615 - accuracy: 0.9818 - val_loss: 0.0454 - val_accuracy: 0.9851\n",
      "Epoch 7/10\n",
      "60000/60000 [==============================] - 2s 42us/step - loss: 0.0553 - accuracy: 0.9838 - val_loss: 0.0383 - val_accuracy: 0.9872\n",
      "Epoch 8/10\n",
      "60000/60000 [==============================] - 3s 42us/step - loss: 0.0495 - accuracy: 0.9848 - val_loss: 0.0367 - val_accuracy: 0.9879\n",
      "Epoch 9/10\n",
      "60000/60000 [==============================] - 3s 42us/step - loss: 0.0451 - accuracy: 0.9862 - val_loss: 0.0334 - val_accuracy: 0.9885\n",
      "Epoch 10/10\n",
      "60000/60000 [==============================] - 3s 42us/step - loss: 0.0417 - accuracy: 0.9875 - val_loss: 0.0326 - val_accuracy: 0.9891\n",
      "Test loss: 0.03258162413602695\n",
      "Test accuracy: 0.9890999794006348\n"
     ]
    },
    {
     "data": {
      "image/png": "[encoded data removed]",
      "text/plain": [
       "<Figure size 432x288 with 1 Axes>"
      ]
     },
     "metadata": {
      "needs_background": "light"
     },
     "output_type": "display_data"
    }
   ],
   "source": [
    "#####---------------------------------------改良版模型---------------------------------------#####\n",
    "model2=Sequential()\n",
    "# 第一層conv2D更改Mask大小從3->9\n",
    "model2.add(Conv2D(32, kernel_size=(9, 9),activation='relu',input_shape=input_shape))\n",
    "\n",
    "model2.add(Conv2D(64, (3, 3), activation='relu'))\n",
    "\n",
    "# 建立池化層，池化大小=2x2，取最大值\n",
    "model2.add(MaxPooling2D(pool_size=(2, 2)))\n",
    "# Dropout層隨機斷開輸入神經元，用於防止過度擬合，斷開比例:0.25\n",
    "model2.add(Dropout(0.25))\n",
    "# Flatten層把多維的輸入一維化，常用在從卷積層到全連接層的過渡。\n",
    "model2.add(Flatten())\n",
    "# 更改數值成0.5->0.25\n",
    "model2.add(Dropout(0.25))\n",
    "# 使用 softmax activation function，將結果分類\n",
    "model2.add(Dense(num_classes, activation='softmax'))\n",
    "\n",
    "# 更改optimizer Adadelta->Adam\n",
    "model2.compile(loss=keras.losses.categorical_crossentropy,\n",
    "              optimizer=keras.optimizers.Adam(),\n",
    "              metrics=['accuracy'])\n",
    "\n",
    "# 更改batch size 256->1024 epochs 15->10\n",
    "train_history = model2.fit(x_train, y_train,\n",
    "          batch_size=1024,\n",
    "          epochs=10,\n",
    "          #verbose=1,\n",
    "          validation_data=(x_test, y_test))\n",
    "#儲存訓練架構及結果\n",
    "#model.save('my_model_cnn.h5')\n",
    "\n",
    "# 顯示損失函數、訓練成果(分數)\n",
    "score = model2.evaluate(x_test, y_test, verbose=0)\n",
    "print('Test loss:', score[0])\n",
    "print('Test accuracy:', score[1])\n",
    "\n",
    "\n",
    "plt.plot(train_history.history['loss'])  \n",
    "plt.plot(train_history.history['val_loss'])  \n",
    "plt.title('Train History')  \n",
    "plt.ylabel('loss')  \n",
    "plt.xlabel('Epoch')  \n",
    "plt.legend(['loss', 'val_loss'], loc='upper left')  \n",
    "plt.show()"
   ]
  },
  {
   "cell_type": "code",
   "execution_count": 4,
   "metadata": {},
   "outputs": [
    {
     "name": "stdout",
     "output_type": "stream",
     "text": [
      "Train on 60000 samples, validate on 10000 samples\n",
      "Epoch 1/15\n",
      "60000/60000 [==============================] - 5s 81us/step - loss: 0.3633 - accuracy: 0.8892 - val_loss: 0.0845 - val_accuracy: 0.9732\n",
      "Epoch 2/15\n",
      "60000/60000 [==============================] - 4s 75us/step - loss: 0.1082 - accuracy: 0.9677 - val_loss: 0.0498 - val_accuracy: 0.9832\n",
      "Epoch 3/15\n",
      "60000/60000 [==============================] - 4s 75us/step - loss: 0.0777 - accuracy: 0.9775 - val_loss: 0.0390 - val_accuracy: 0.9869\n",
      "Epoch 4/15\n",
      "60000/60000 [==============================] - 4s 75us/step - loss: 0.0623 - accuracy: 0.9812 - val_loss: 0.0367 - val_accuracy: 0.9867\n",
      "Epoch 5/15\n",
      "60000/60000 [==============================] - 4s 74us/step - loss: 0.0533 - accuracy: 0.9839 - val_loss: 0.0346 - val_accuracy: 0.9887\n",
      "Epoch 6/15\n",
      "60000/60000 [==============================] - 4s 74us/step - loss: 0.0486 - accuracy: 0.9852 - val_loss: 0.0317 - val_accuracy: 0.9890\n",
      "Epoch 7/15\n",
      "60000/60000 [==============================] - 4s 74us/step - loss: 0.0420 - accuracy: 0.9870 - val_loss: 0.0280 - val_accuracy: 0.9907\n",
      "Epoch 8/15\n",
      "60000/60000 [==============================] - 5s 75us/step - loss: 0.0391 - accuracy: 0.9882 - val_loss: 0.0276 - val_accuracy: 0.9902\n",
      "Epoch 9/15\n",
      "60000/60000 [==============================] - 5s 76us/step - loss: 0.0348 - accuracy: 0.9893 - val_loss: 0.0291 - val_accuracy: 0.9900\n",
      "Epoch 10/15\n",
      "60000/60000 [==============================] - 5s 78us/step - loss: 0.0333 - accuracy: 0.9895 - val_loss: 0.0268 - val_accuracy: 0.9909\n",
      "Epoch 11/15\n",
      "60000/60000 [==============================] - 5s 76us/step - loss: 0.0288 - accuracy: 0.9912 - val_loss: 0.0288 - val_accuracy: 0.9912\n",
      "Epoch 12/15\n",
      "60000/60000 [==============================] - 4s 74us/step - loss: 0.0276 - accuracy: 0.9912 - val_loss: 0.0287 - val_accuracy: 0.9909\n",
      "Epoch 13/15\n",
      "60000/60000 [==============================] - 5s 76us/step - loss: 0.0261 - accuracy: 0.9917 - val_loss: 0.0277 - val_accuracy: 0.9913\n",
      "Epoch 14/15\n",
      "60000/60000 [==============================] - 5s 75us/step - loss: 0.0254 - accuracy: 0.9919 - val_loss: 0.0260 - val_accuracy: 0.9916\n",
      "Epoch 15/15\n",
      "60000/60000 [==============================] - 5s 76us/step - loss: 0.0237 - accuracy: 0.9924 - val_loss: 0.0257 - val_accuracy: 0.9921\n",
      "Test loss: 0.02571241261522082\n",
      "Test accuracy: 0.9921000003814697\n"
     ]
    },
    {
     "data": {
      "image/png": "[encoded data removed]",
      "text/plain": [
       "<Figure size 432x288 with 1 Axes>"
      ]
     },
     "metadata": {
      "needs_background": "light"
     },
     "output_type": "display_data"
    }
   ],
   "source": [
    "#####---------------------------------------尚未修改的模型---------------------------------------#####\n",
    "\n",
    "# 建立簡單的線性執行的模型\n",
    "model = Sequential()\n",
    "# 建立卷積層，filter=32,即 output space 的深度, Kernal Size: 3x3, activation function 採用 relu\n",
    "model.add(Conv2D(32, kernel_size=(3, 3),\n",
    "                 activation='relu',\n",
    "                 input_shape=input_shape))\n",
    "# 建立卷積層，filter=64,即 output size, Kernal Size: 3x3, activation function 採用 relu\n",
    "model.add(Conv2D(64, (3, 3), activation='relu'))\n",
    "# 建立池化層，池化大小=2x2，取最大值\n",
    "model.add(MaxPooling2D(pool_size=(2, 2)))\n",
    "# Dropout層隨機斷開輸入神經元，用於防止過度擬合，斷開比例:0.25\n",
    "model.add(Dropout(0.25))\n",
    "# Flatten層把多維的輸入一維化，常用在從卷積層到全連接層的過渡。\n",
    "model.add(Flatten())\n",
    "# 全連接層: 128個output\n",
    "model.add(Dense(128, activation='relu'))\n",
    "# Dropout層隨機斷開輸入神經元，用於防止過度擬合，斷開比例:0.5\n",
    "model.add(Dropout(0.5))\n",
    "# 使用 softmax activation function，將結果分類\n",
    "model.add(Dense(num_classes, activation='softmax'))\n",
    "\n",
    "# 編譯: 選擇損失函數、優化方法及成效衡量方式\n",
    "model.compile(loss=keras.losses.categorical_crossentropy,\n",
    "              optimizer=keras.optimizers.Adadelta(),\n",
    "              metrics=['accuracy'])\n",
    "\n",
    "# 進行訓練, 訓練過程會存在 train_history 變數中\n",
    "train_history = model.fit(x_train, y_train,\n",
    "          batch_size=batch_size,\n",
    "          epochs=epochs,\n",
    "          verbose=1,\n",
    "          validation_data=(x_test, y_test))\n",
    "#儲存訓練架構及結果\n",
    "# model.save('my_model_cnn.h5')\n",
    "\n",
    "# 顯示損失函數、訓練成果(分數)\n",
    "score = model.evaluate(x_test, y_test, verbose=0)\n",
    "print('Test loss:', score[0])\n",
    "print('Test accuracy:', score[1])\n",
    "\n",
    "\n",
    "plt.plot(train_history.history['loss'])  \n",
    "plt.plot(train_history.history['val_loss'])  \n",
    "plt.title('Train History')  \n",
    "plt.ylabel('loss')  \n",
    "plt.xlabel('Epoch')  \n",
    "plt.legend(['loss', 'val_loss'], loc='upper left')  \n",
    "plt.show()"
   ]
  },
  {
   "cell_type": "code",
   "execution_count": null,
   "metadata": {},
   "outputs": [],
   "source": []
  }
 ],
 "metadata": {
  "kernelspec": {
   "display_name": "Python 3.7.0 64-bit",
   "language": "python",
   "name": "python37064bit44a966ef7fcc47d8bf729811d7ac14fd"
  },
  "language_info": {
   "codemirror_mode": {
    "name": "ipython",
    "version": 3
   },
   "file_extension": ".py",
   "mimetype": "text/x-python",
   "name": "python",
   "nbconvert_exporter": "python",
   "pygments_lexer": "ipython3",
   "version": "3.7.0"
  }
 },
 "nbformat": 4,
 "nbformat_minor": 4
}
